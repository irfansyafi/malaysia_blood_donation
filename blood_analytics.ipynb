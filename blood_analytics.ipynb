{
 "cells": [
  {
   "cell_type": "markdown",
   "metadata": {},
   "source": [
    "This will contain code that only have working and possible codes. No comment to little comment in this file."
   ]
  },
  {
   "cell_type": "code",
   "execution_count": 1,
   "metadata": {},
   "outputs": [
    {
     "name": "stderr",
     "output_type": "stream",
     "text": [
      "INFO:root:Getting data from https://raw.githubusercontent.com/MoH-Malaysia/data-darah-public/main/donations_facility.csv\n",
      "INFO:root:Getting data from https://raw.githubusercontent.com/MoH-Malaysia/data-darah-public/main/donations_state.csv\n",
      "INFO:root:Getting data from https://raw.githubusercontent.com/MoH-Malaysia/data-darah-public/main/newdonors_facility.csv\n",
      "INFO:root:Getting data from https://raw.githubusercontent.com/MoH-Malaysia/data-darah-public/main/newdonors_state.csv\n"
     ]
    }
   ],
   "source": [
    "import pandas as pd\n",
    "import logging\n",
    "import os\n",
    "logging.getLogger().setLevel(logging.INFO)\n",
    "\n",
    "donation_facilities_url = \"https://raw.githubusercontent.com/MoH-Malaysia/data-darah-public/main/donations_facility.csv\"\n",
    "donation_state_url = \"https://raw.githubusercontent.com/MoH-Malaysia/data-darah-public/main/donations_state.csv\"\n",
    "newdonors_facility_url = \"https://raw.githubusercontent.com/MoH-Malaysia/data-darah-public/main/newdonors_facility.csv\"\n",
    "newdonors_state_url = \"https://raw.githubusercontent.com/MoH-Malaysia/data-darah-public/main/newdonors_state.csv\"\n",
    "\n",
    "def get_data_url(url_link):\n",
    "    try:\n",
    "        data = pd.read_csv(url_link) # , parse_dates=['date'], index_col='date'\n",
    "        logging.info(f\"Getting data from {url_link}\")\n",
    "        return data\n",
    "    except Exception as e:\n",
    "        logging.error(f\"Unexpected error fetching data from {url_link}: {e}\")\n",
    "        return None\n",
    "\n",
    "donation_facilities = get_data_url(donation_facilities_url)\n",
    "donation_state = get_data_url(donation_state_url)\n",
    "newdonors_facility = get_data_url(newdonors_facility_url)\n",
    "newdonors_state = get_data_url(newdonors_state_url)\n",
    "\n",
    "blood_donation_retention = pd.read_parquet(\"https://dub.sh/ds-data-granular\") # In this parquet, there is no date\n",
    "\n"
   ]
  },
  {
   "cell_type": "markdown",
   "metadata": {},
   "source": [
    "Store in csv file from the data"
   ]
  },
  {
   "cell_type": "code",
   "execution_count": 2,
   "metadata": {},
   "outputs": [
    {
     "name": "stderr",
     "output_type": "stream",
     "text": [
      "INFO:root:Data appended to donation_facilities.csv.\n",
      "INFO:root:Data appended to donation_state.csv.\n",
      "INFO:root:Data appended to newdonors_facility.csv.\n",
      "INFO:root:Data appended to newdonors_state.csv.\n",
      "INFO:root:Data appended to blood_donation_retention.csv.\n"
     ]
    }
   ],
   "source": [
    "def append_data(data, file_path):\n",
    "    if os.path.exists(file_path):\n",
    "        existing_data = pd.read_csv(file_path)\n",
    "        updated_data = pd.merge(existing_data, data, how='outer', indicator=True).query('_merge == \"right_only\"').drop('_merge', axis=1)\n",
    "    else:\n",
    "        updated_data = data\n",
    "        logging.info(f\"File not exist. Create new file\")\n",
    "\n",
    "    updated_data.to_csv(file_path, index=False, mode='a', header=not os.path.exists(file_path))\n",
    "    logging.info(f\"Data appended to {file_path}.\")\n",
    "\n",
    "    return pd.read_csv(file_path)\n",
    "\n",
    "donation_facilities_updated = append_data(donation_facilities, \"donation_facilities.csv\")\n",
    "donation_state_updated = append_data(donation_state, \"donation_state.csv\")\n",
    "newdonors_facility_updated = append_data(newdonors_facility,\"newdonors_facility.csv\")\n",
    "newdonors_state_updated = append_data(newdonors_state, \"newdonors_state.csv\")\n",
    "blood_donation_retention_updated = append_data(blood_donation_retention, \"blood_donation_retention.csv\")"
   ]
  },
  {
   "cell_type": "markdown",
   "metadata": {},
   "source": [
    "Get the information of each dataset."
   ]
  },
  {
   "cell_type": "code",
   "execution_count": 3,
   "metadata": {},
   "outputs": [
    {
     "name": "stdout",
     "output_type": "stream",
     "text": [
      "<class 'pandas.core.frame.DataFrame'>\n",
      "RangeIndex: 145146 entries, 0 to 145145\n",
      "Data columns (total 19 columns):\n",
      " #   Column                   Non-Null Count   Dtype \n",
      "---  ------                   --------------   ----- \n",
      " 0   date                     145146 non-null  object\n",
      " 1   hospital                 145146 non-null  object\n",
      " 2   daily                    145146 non-null  int64 \n",
      " 3   blood_a                  145146 non-null  int64 \n",
      " 4   blood_b                  145146 non-null  int64 \n",
      " 5   blood_o                  145146 non-null  int64 \n",
      " 6   blood_ab                 145146 non-null  int64 \n",
      " 7   location_centre          145146 non-null  int64 \n",
      " 8   location_mobile          145146 non-null  int64 \n",
      " 9   type_wholeblood          145146 non-null  int64 \n",
      " 10  type_apheresis_platelet  145146 non-null  int64 \n",
      " 11  type_apheresis_plasma    145146 non-null  int64 \n",
      " 12  type_other               145146 non-null  int64 \n",
      " 13  social_civilian          145146 non-null  int64 \n",
      " 14  social_student           145146 non-null  int64 \n",
      " 15  social_policearmy        145146 non-null  int64 \n",
      " 16  donations_new            145146 non-null  int64 \n",
      " 17  donations_regular        145146 non-null  int64 \n",
      " 18  donations_irregular      145146 non-null  int64 \n",
      "dtypes: int64(17), object(2)\n",
      "memory usage: 21.0+ MB\n",
      "None\n",
      "<class 'pandas.core.frame.DataFrame'>\n",
      "RangeIndex: 92382 entries, 0 to 92381\n",
      "Data columns (total 19 columns):\n",
      " #   Column                   Non-Null Count  Dtype \n",
      "---  ------                   --------------  ----- \n",
      " 0   date                     92382 non-null  object\n",
      " 1   state                    92382 non-null  object\n",
      " 2   daily                    92382 non-null  int64 \n",
      " 3   blood_a                  92382 non-null  int64 \n",
      " 4   blood_b                  92382 non-null  int64 \n",
      " 5   blood_o                  92382 non-null  int64 \n",
      " 6   blood_ab                 92382 non-null  int64 \n",
      " 7   location_centre          92382 non-null  int64 \n",
      " 8   location_mobile          92382 non-null  int64 \n",
      " 9   type_wholeblood          92382 non-null  int64 \n",
      " 10  type_apheresis_platelet  92382 non-null  int64 \n",
      " 11  type_apheresis_plasma    92382 non-null  int64 \n",
      " 12  type_other               92382 non-null  int64 \n",
      " 13  social_civilian          92382 non-null  int64 \n",
      " 14  social_student           92382 non-null  int64 \n",
      " 15  social_policearmy        92382 non-null  int64 \n",
      " 16  donations_new            92382 non-null  int64 \n",
      " 17  donations_regular        92382 non-null  int64 \n",
      " 18  donations_irregular      92382 non-null  int64 \n",
      "dtypes: int64(17), object(2)\n",
      "memory usage: 13.4+ MB\n",
      "None\n",
      "<class 'pandas.core.frame.DataFrame'>\n",
      "RangeIndex: 145135 entries, 0 to 145134\n",
      "Data columns (total 13 columns):\n",
      " #   Column    Non-Null Count   Dtype \n",
      "---  ------    --------------   ----- \n",
      " 0   date      145135 non-null  object\n",
      " 1   hospital  145135 non-null  object\n",
      " 2   17-24     145135 non-null  int64 \n",
      " 3   25-29     145135 non-null  int64 \n",
      " 4   30-34     145135 non-null  int64 \n",
      " 5   35-39     145135 non-null  int64 \n",
      " 6   40-44     145135 non-null  int64 \n",
      " 7   45-49     145135 non-null  int64 \n",
      " 8   50-54     145135 non-null  int64 \n",
      " 9   55-59     145135 non-null  int64 \n",
      " 10  60-64     145135 non-null  int64 \n",
      " 11  other     145135 non-null  int64 \n",
      " 12  total     145135 non-null  int64 \n",
      "dtypes: int64(11), object(2)\n",
      "memory usage: 14.4+ MB\n",
      "None\n",
      "<class 'pandas.core.frame.DataFrame'>\n",
      "RangeIndex: 92360 entries, 0 to 92359\n",
      "Data columns (total 13 columns):\n",
      " #   Column  Non-Null Count  Dtype \n",
      "---  ------  --------------  ----- \n",
      " 0   date    92360 non-null  object\n",
      " 1   state   92360 non-null  object\n",
      " 2   17-24   92360 non-null  int64 \n",
      " 3   25-29   92360 non-null  int64 \n",
      " 4   30-34   92360 non-null  int64 \n",
      " 5   35-39   92360 non-null  int64 \n",
      " 6   40-44   92360 non-null  int64 \n",
      " 7   45-49   92360 non-null  int64 \n",
      " 8   50-54   92360 non-null  int64 \n",
      " 9   55-59   92360 non-null  int64 \n",
      " 10  60-64   92360 non-null  int64 \n",
      " 11  other   92360 non-null  int64 \n",
      " 12  total   92360 non-null  int64 \n",
      "dtypes: int64(11), object(2)\n",
      "memory usage: 9.2+ MB\n",
      "None\n",
      "<class 'pandas.core.frame.DataFrame'>\n",
      "RangeIndex: 6245431 entries, 0 to 6245430\n",
      "Data columns (total 3 columns):\n",
      " #   Column      Dtype \n",
      "---  ------      ----- \n",
      " 0   donor_id    object\n",
      " 1   visit_date  object\n",
      " 2   birth_date  int64 \n",
      "dtypes: int64(1), object(2)\n",
      "memory usage: 142.9+ MB\n",
      "None\n"
     ]
    }
   ],
   "source": [
    "print(donation_facilities_updated.info()) #145090 is the original count on 21/01/2024 #145112 as of 23/01/2024\n",
    "print(donation_state_updated.info())\n",
    "print(newdonors_facility_updated.info())\n",
    "print(newdonors_state_updated.info())\n",
    "print(blood_donation_retention_updated.info())"
   ]
  },
  {
   "cell_type": "markdown",
   "metadata": {},
   "source": [
    "Change 4 dataset into time series dataset where date will be the DateTimeIndex"
   ]
  },
  {
   "cell_type": "code",
   "execution_count": 4,
   "metadata": {},
   "outputs": [],
   "source": [
    "def change_dataframe_timeindex(dataframe):\n",
    "    dataframe['date'] = pd.to_datetime(dataframe['date'],errors='coerce')\n",
    "    dataframe = dataframe.set_index('date', inplace=True)\n",
    "\n",
    "\n",
    "change_dataframe_timeindex(donation_facilities_updated)\n",
    "change_dataframe_timeindex(donation_state_updated)\n",
    "change_dataframe_timeindex(newdonors_facility_updated)\n",
    "change_dataframe_timeindex(newdonors_state_updated)"
   ]
  },
  {
   "cell_type": "markdown",
   "metadata": {},
   "source": [
    "Plot the total donation from each blood type"
   ]
  },
  {
   "cell_type": "code",
   "execution_count": 5,
   "metadata": {},
   "outputs": [
    {
     "name": "stdout",
     "output_type": "stream",
     "text": [
      "2006-01-01 00:00:00\n",
      "2024-01-23 00:00:00\n"
     ]
    },
    {
     "data": {
      "image/png": "[encoded data removed]",
      "text/plain": [
       "<Figure size 432x288 with 1 Axes>"
      ]
     },
     "metadata": {
      "needs_background": "light"
     },
     "output_type": "display_data"
    }
   ],
   "source": [
    "import matplotlib.pyplot as plt\n",
    "oldest_date = donation_state_updated.index.min()\n",
    "newest_date = donation_state_updated.index.max()\n",
    "print(oldest_date)\n",
    "print(newest_date)\n",
    "\n",
    "# Use .loc to select a range of dates\n",
    "donation_state_updated_resampled = donation_state_updated.resample('Y').sum()\n",
    "donation_state_updated_resampled = donation_state_updated_resampled.loc[oldest_date:newest_date]\n",
    "\n",
    "# Plotting\n",
    "donation_state_updated_resampled['blood_a'].plot(label='Blood Type A', color='red')\n",
    "donation_state_updated_resampled['blood_ab'].plot(label='Blood Type AB', color='green')\n",
    "donation_state_updated_resampled['blood_b'].plot(label='Blood Type B', color='blue')\n",
    "donation_state_updated_resampled['blood_o'].plot(label='Blood Type O', color='orange')\n",
    "\n",
    "plt.title(\"Yearly Blood Donation Trends\")\n",
    "plt.xlabel(\"Year\")\n",
    "plt.ylabel(\"Total Blood Donation Count\")\n",
    "plt.legend()\n",
    "plt.show()\n"
   ]
  },
  {
   "cell_type": "markdown",
   "metadata": {},
   "source": [
    "Plot blood retention of each age group category"
   ]
  },
  {
   "cell_type": "code",
   "execution_count": 6,
   "metadata": {},
   "outputs": [
    {
     "name": "stdout",
     "output_type": "stream",
     "text": [
      "['17-24', '25-29', '30-34', '35-39', '40-44', '45-49', '50-54', '55-59', '60-64', 'other']\n",
      "1899\n",
      "2024\n"
     ]
    },
    {
     "name": "stderr",
     "output_type": "stream",
     "text": [
      "C:\\Users\\Irfan Syafi\\AppData\\Local\\Temp\\ipykernel_13700\\1883400315.py:19: FutureWarning: The default of observed=False is deprecated and will be changed to True in a future version of pandas. Pass observed=False to retain current behavior or observed=True to adopt the future default and silence this warning.\n",
      "  blood_donation_grouped = blood_donation_retention_updated.groupby(by=['age_group']).count()\n"
     ]
    },
    {
     "data": {
      "text/plain": [
       "<Figure size 1152x576 with 0 Axes>"
      ]
     },
     "metadata": {},
     "output_type": "display_data"
    },
    {
     "data": {
      "image/png": "[encoded data removed]",
      "text/plain": [
       "<Figure size 432x288 with 1 Axes>"
      ]
     },
     "metadata": {
      "needs_background": "light"
     },
     "output_type": "display_data"
    }
   ],
   "source": [
    "import matplotlib.pyplot as plt\n",
    "\n",
    "blood_donation_retention_updated['age'] = int(newest_date.year) - blood_donation_retention_updated['birth_date']\n",
    "plt.figure(figsize=(16,8))\n",
    "idcount = blood_donation_retention_updated['donor_id'].value_counts()\n",
    "oldest = blood_donation_retention_updated['birth_date'].min()\n",
    "youngest = blood_donation_retention_updated['birth_date'].max()\n",
    "age_group_list = newdonors_state_updated.columns[1:11].to_list()\n",
    "#print(idcount)\n",
    "print(age_group_list)\n",
    "print(oldest)\n",
    "print(youngest)\n",
    "\n",
    "bins = [16, 24, 29, 34, 39, 44, 49, 54, 59, 64, 150]\n",
    "\n",
    "\n",
    "blood_donation_retention_updated['age_group'] = pd.cut(blood_donation_retention_updated['age'], bins=bins, labels=age_group_list, right=False)\n",
    "\n",
    "blood_donation_grouped = blood_donation_retention_updated.groupby(by=['age_group']).count()\n",
    "\n",
    "\n",
    "fig, ax = plt.subplots()\n",
    "ax.bar(blood_donation_grouped.index,pd.to_numeric(blood_donation_grouped['age']))\n",
    "ax.set_ylabel('Total Donation by Millions')\n",
    "plt.show()\n"
   ]
  },
  {
   "cell_type": "markdown",
   "metadata": {},
   "source": [
    "Average per person that revisit for blood donation"
   ]
  },
  {
   "cell_type": "code",
   "execution_count": 7,
   "metadata": {},
   "outputs": [
    {
     "name": "stdout",
     "output_type": "stream",
     "text": [
      "2.782103909421483\n"
     ]
    }
   ],
   "source": [
    "donor_grouped = blood_donation_retention_updated.groupby(by = ['donor_id']).count()\n",
    "donor_grouped.head(10)\n",
    "average_per_person = donor_grouped['visit_date'].mean()\n",
    "print(average_per_person)"
   ]
  }
 ],
 "metadata": {
  "kernelspec": {
   "display_name": "Python 3",
   "language": "python",
   "name": "python3"
  },
  "language_info": {
   "codemirror_mode": {
    "name": "ipython",
    "version": 3
   },
   "file_extension": ".py",
   "mimetype": "text/x-python",
   "name": "python",
   "nbconvert_exporter": "python",
   "pygments_lexer": "ipython3",
   "version": "3.10.4"
  }
 },
 "nbformat": 4,
 "nbformat_minor": 2
}
